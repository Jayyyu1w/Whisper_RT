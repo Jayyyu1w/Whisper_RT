{
 "cells": [
  {
   "cell_type": "code",
   "execution_count": null,
   "metadata": {},
   "outputs": [],
   "source": [
    "import time\n",
    "\n",
    "from audio_processing import AudioRecorder, SileroVAD\n",
    "from whisper_transcriber import WhisperTranscriber"
   ]
  },
  {
   "cell_type": "code",
   "execution_count": null,
   "metadata": {},
   "outputs": [],
   "source": [
    "# 初始化錄音器與 Whisper 轉錄\n",
    "recorder = AudioRecorder()\n",
    "transcriber = WhisperTranscriber(model_size=\"medium\", device=\"cuda\", compute_type=\"int8\")\n",
    "vad = SileroVAD()\n",
    "\n",
    "# 列出裝置並開始錄音\n",
    "#recorder.list_audio_devices()\n",
    "recorder.get_default_device()\n",
    "\n",
    "transcribe_text = \"\""
   ]
  },
  {
   "cell_type": "code",
   "execution_count": null,
   "metadata": {},
   "outputs": [],
   "source": [
    "recorder.start_recording()\n",
    "\n",
    "try:\n",
    "    while True:\n",
    "        recorder.record_audio()\n",
    "        \n",
    "        if recorder.audio_queue.qsize() * recorder.chunk_size >= recorder.rate * recorder.threshold_seconds:\n",
    "            audio_accumulated_np = recorder.process_audio_queue()\n",
    "            audio_accumulated_np = audio_accumulated_np / 32768.0\n",
    "            print(\"Out of threshold, process audio queue\")\n",
    "            if vad.is_speech(audio_accumulated_np):\n",
    "                stt_result = transcriber.process_audio_chunk(audio_accumulated_np)\n",
    "                if stt_result:\n",
    "                    print(stt_result)\n",
    "                    transcribe_text += \" \".join(stt_result)\n",
    "            else:\n",
    "                print(\"Silence detected\")\n",
    "                time.sleep(0.1)\n",
    "                # process the transcribe_text\n",
    "                if transcribe_text:\n",
    "                    print(\"Transcribe text:\", transcribe_text)\n",
    "                    transcribe_text = \"\"\n",
    "                \n",
    "\n",
    "except KeyboardInterrupt:\n",
    "    recorder.stop_recording()"
   ]
  }
 ],
 "metadata": {
  "kernelspec": {
   "display_name": "RAG",
   "language": "python",
   "name": "python3"
  },
  "language_info": {
   "codemirror_mode": {
    "name": "ipython",
    "version": 3
   },
   "file_extension": ".py",
   "mimetype": "text/x-python",
   "name": "python",
   "nbconvert_exporter": "python",
   "pygments_lexer": "ipython3",
   "version": "3.11.11"
  }
 },
 "nbformat": 4,
 "nbformat_minor": 2
}
